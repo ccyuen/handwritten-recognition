{
 "cells": [
  {
   "cell_type": "markdown",
   "metadata": {},
   "source": [
    "# Data Processing\n",
    "This notebook provides the operations to process the CROHME 2019 dataset https://www.cs.rit.edu/~crohme2019/dataANDtools.html. Currently only the dataset for Task2 Offline is used."
   ]
  },
  {
   "cell_type": "code",
   "execution_count": 1,
   "metadata": {},
   "outputs": [],
   "source": [
    "import os\n",
    "import numpy as np\n",
    "from PIL import Image\n",
    "from matplotlib import pyplot"
   ]
  },
  {
   "cell_type": "code",
   "execution_count": null,
   "metadata": {},
   "outputs": [],
   "source": [
    "# Constants\n",
    "PATH_TO_DATASET = \"/home/crohme_dataset/\"\n",
    "PATH_TO_IMAGES = \"/home/crohme_dataset/Task2_Offline/MainTask_formula/\""
   ]
  },
  {
   "cell_type": "markdown",
   "metadata": {},
   "source": [
    "## utils"
   ]
  },
  {
   "cell_type": "code",
   "execution_count": null,
   "metadata": {},
   "outputs": [],
   "source": [
    "def num_classes():\n",
    "    \"\"\"Returns the number of classes in the dataset\n",
    "    \n",
    "    Returns:\n",
    "        Number of classes\n",
    "    \"\"\""
   ]
  },
  {
   "cell_type": "markdown",
   "metadata": {},
   "source": [
    "## data ops"
   ]
  },
  {
   "cell_type": "code",
   "execution_count": null,
   "metadata": {},
   "outputs": [],
   "source": [
    "def process_data(train=True):\n",
    "    \"\"\"Parses dataset into proper format\n",
    "    \n",
    "    Retrieves dataset locally (ideally from s3) and processes the images and labels into easily usable numpy arrays.\n",
    "    The dataset is then stored locally (ideally to s3) if the file does not exist\n",
    "    \n",
    "    Args:\n",
    "        train: Whether or not the dataset is for training or testing\n",
    "    \"\"\"\n",
    "    if train:\n",
    "        img = Image.open(\"path-to-image\")\n",
    "    else:\n",
    "        # parse test dataset\n",
    "    # store dataset"
   ]
  },
  {
   "cell_type": "code",
   "execution_count": null,
   "metadata": {},
   "outputs": [],
   "source": [
    "def get_data(train=True):\n",
    "    \"\"\"Returns the dataset from s3\n",
    "    \n",
    "    Retrieves the stored dataset (.npy) and returns it\n",
    "    \n",
    "    Args:\n",
    "        train: Whether or not the dataset is for training or testing\n",
    "        \n",
    "    Returns:\n",
    "        The dataset images and labels as numpy arrays\n",
    "    \"\"\"\n",
    "    file = \"train\" if train else \"test\"\n",
    "    \n",
    "    # open .npy file\n",
    "    \n",
    "    return images, labels"
   ]
  },
  {
   "cell_type": "code",
   "execution_count": null,
   "metadata": {},
   "outputs": [],
   "source": []
  }
 ],
 "metadata": {
  "kernelspec": {
   "display_name": "Python 3",
   "language": "python",
   "name": "python3"
  },
  "language_info": {
   "codemirror_mode": {
    "name": "ipython",
    "version": 3
   },
   "file_extension": ".py",
   "mimetype": "text/x-python",
   "name": "python",
   "nbconvert_exporter": "python",
   "pygments_lexer": "ipython3",
   "version": "3.7.3"
  },
  "toc-autonumbering": false,
  "toc-showcode": false,
  "toc-showmarkdowntxt": false,
  "toc-showtags": false
 },
 "nbformat": 4,
 "nbformat_minor": 2
}
