{
 "cells": [
  {
   "cell_type": "markdown",
   "metadata": {
    "toc-hr-collapsed": false
   },
   "source": [
    "# Model training\n",
    "This notebook experiments with different training methods and model architectures."
   ]
  },
  {
   "cell_type": "code",
   "execution_count": 2,
   "metadata": {},
   "outputs": [],
   "source": [
    "import tensorflow as tf\n",
    "from tensorflow import keras\n",
    "from tensorflow.keras.layers import Conv2D, Dropout, MaxPooling2D, Dense\n",
    "from tensorflow.keras.applications.vgg19 import VGG19"
   ]
  },
  {
   "cell_type": "code",
   "execution_count": 3,
   "metadata": {},
   "outputs": [],
   "source": [
    "IMG_WIDTH = IMG_HEIGHT = 224 # this is the default for vgg19\n",
    "IMG_CHANNELS = 3\n",
    "MODEL_DIR = \"\"\n",
    "TRAIN_DIR = \"\"\n",
    "VALID_DIR = \"\""
   ]
  },
  {
   "cell_type": "code",
   "execution_count": 15,
   "metadata": {},
   "outputs": [],
   "source": [
    "def init_model():\n",
    "    \"\"\"Loads vgg19 and adds layers ontop\n",
    "    \n",
    "    Returns:\n",
    "        The Keras model\n",
    "    \"\"\"\n",
    "    vgg19 = VGG19(include_top=False,\n",
    "                       weights='imagenet',\n",
    "                       input_shape=(IMG_X, IMG_Y, IMG_CHANNELS),\n",
    "                       pooling=None)\n",
    "    \n",
    "    # create a Sequential model from VGG19 layers & weights\n",
    "    base_model = Sequential()\n",
    "    for l in vgg19.layers:\n",
    "        base_model.add(l)\n",
    "    \n",
    "    top_model = keras.Sequential()\n",
    "    # convolution\n",
    "    top_model.add(Conv2D(32, kernel_size=3, input_shape=(100, 100, 3), activation='relu'))\n",
    "    top_model.add(MaxPooling2D(pool_size=2))\n",
    "    top_model.add(Dropout(0.1))\n",
    "    \n",
    "    top_model.add(Conv2D(32, kernel_size=3, activation='relu'))\n",
    "    top_model.add(MaxPooling2D(pool_size=2))\n",
    "    top_model.add(Dropout(0.1))\n",
    "    \n",
    "    # classification\n",
    "    top_model.add(Flatten())\n",
    "    top_model.add(Dense(32, activation='relu'))\n",
    "    top_model.add(Dense(100, activation='softmax'))\n",
    "    \n",
    "    base_model.add(vgg19)\n",
    "    \n",
    "    # lock top layers for model\n",
    "    for layer in base_model.layers:\n",
    "        layer.trainable = False\n",
    "    \n",
    "    return base_model"
   ]
  },
  {
   "cell_type": "code",
   "execution_count": 6,
   "metadata": {},
   "outputs": [],
   "source": [
    "def train_model(model, images, labels):\n",
    "    \"\"\"Compiles and trains the model given the dataset\n",
    "    \n",
    "    The model is also saved after it is trained\n",
    "    \n",
    "    Args:\n",
    "        images:\n",
    "        labels:\n",
    "        \n",
    "    Returns:\n",
    "        The trained model\n",
    "    \"\"\"\n",
    "    train_samples = 1000\n",
    "    validation_samples = 1000\n",
    "    epochs = 30\n",
    "    batch_size = 16\n",
    "    \n",
    "    # For a multi-class classification problem\n",
    "    model.compile(optimizer='Adam',\n",
    "              loss='categorical_crossentropy',\n",
    "              metrics=['accuracy'])\n",
    "    \n",
    "    one_hot_labels = keras.utils.to_categorical(labels, num_classes=NUM_CLASSES)\n",
    "\n",
    "    model.fit(images, labels, epochs=10, batch_size=32)"
   ]
  },
  {
   "cell_type": "code",
   "execution_count": null,
   "metadata": {},
   "outputs": [],
   "source": [
    "def save_model(model, path):\n",
    "    \"\"\"Saves a model to location specified in path\n",
    "    \n",
    "    Args:\n",
    "        path: The path to save the trained model\n",
    "    \"\"\"\n",
    "    model.save(\"model.h5\")"
   ]
  },
  {
   "cell_type": "code",
   "execution_count": 7,
   "metadata": {},
   "outputs": [],
   "source": [
    "def load_model(path):\n",
    "    \"\"\"Returns a pretrained model\n",
    "    \n",
    "    Args:\n",
    "        path: The path to the trained model\n",
    "        \n",
    "    Returns:\n",
    "        The pretrained model with architecture and weights\n",
    "    \"\"\"\n",
    "    return load_model(path)"
   ]
  },
  {
   "cell_type": "code",
   "execution_count": null,
   "metadata": {},
   "outputs": [],
   "source": [
    "# get data from the data_processing notebook"
   ]
  },
  {
   "cell_type": "code",
   "execution_count": 14,
   "metadata": {},
   "outputs": [],
   "source": [
    "# main\n",
    "model = init_model()\n",
    "# train_model(model, images, labels)\n",
    "# save_model(model, MODEL_PATH)"
   ]
  },
  {
   "cell_type": "code",
   "execution_count": null,
   "metadata": {},
   "outputs": [],
   "source": []
  }
 ],
 "metadata": {
  "kernelspec": {
   "display_name": "Python 3",
   "language": "python",
   "name": "python3"
  },
  "language_info": {
   "codemirror_mode": {
    "name": "ipython",
    "version": 3
   },
   "file_extension": ".py",
   "mimetype": "text/x-python",
   "name": "python",
   "nbconvert_exporter": "python",
   "pygments_lexer": "ipython3",
   "version": "3.7.3"
  }
 },
 "nbformat": 4,
 "nbformat_minor": 2
}
