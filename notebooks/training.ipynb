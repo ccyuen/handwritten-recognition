{
 "cells": [
  {
   "cell_type": "markdown",
   "metadata": {},
   "source": [
    "# Model training\n",
    "This notebook experiments with different training methods and model architectures."
   ]
  },
  {
   "cell_type": "code",
   "execution_count": 3,
   "metadata": {},
   "outputs": [],
   "source": [
    "import tensorflow as tf\n",
    "from tensorflow import keras\n",
    "from tensorflow.keras.layers import *"
   ]
  },
  {
   "cell_type": "code",
   "execution_count": 5,
   "metadata": {},
   "outputs": [],
   "source": [
    "def init_model():\n",
    "    \"\"\"Creates and defines the model architecture\n",
    "    \n",
    "    Returns:\n",
    "        The Keras model\n",
    "    \"\"\"\n",
    "    model = keras.Sequential()\n",
    "    \n",
    "    # convolution\n",
    "    model.add(Conv2D(32, kernel_size=3, input_shape=(100, 100, 3), activation='relu')) # RGB input\n",
    "    model.add(MaxPooling2D(pool_size=2))\n",
    "    model.add(Dropout(0.1))\n",
    "    \n",
    "    model.add(Conv2D(32, kernel_size=3, activation='relu')) # RGB input\n",
    "    model.add(MaxPooling2D(pool_size=2))\n",
    "    model.add(Dropout(0.1))\n",
    "    \n",
    "    # classification\n",
    "    model.add(Flatten())\n",
    "    model.add(Dense(32, activation='relu'))\n",
    "    model.add(Dense(100, activation='softmax'))\n",
    "    \n",
    "    return model"
   ]
  },
  {
   "cell_type": "code",
   "execution_count": null,
   "metadata": {},
   "outputs": [],
   "source": [
    "def train_model(images, labels):\n",
    "    \"\"\"Compiles and trains the model given the dataset\n",
    "    \n",
    "    The model is also saved after it is trained\n",
    "    \n",
    "    Args:\n",
    "        images:\n",
    "        labels:\n",
    "        \n",
    "    Returns:\n",
    "        The trained model\n",
    "    \"\"\"\n",
    "    # For a multi-class classification problem\n",
    "    model.compile(optimizer='Adam',\n",
    "              loss='categorical_crossentropy',\n",
    "              metrics=['accuracy'])\n",
    "    \n",
    "    one_hot_labels = keras.utils.to_categorical(labels, num_classes=NUM_CLASSES)\n",
    "\n",
    "    model.fit(images, labels, epochs=10, batch_size=32)\n",
    "    \n",
    "    model.save(\"model.h5\")"
   ]
  },
  {
   "cell_type": "code",
   "execution_count": null,
   "metadata": {},
   "outputs": [],
   "source": [
    "def load_model(path):\n",
    "    \"\"\"Returns a pretrained model\n",
    "    \n",
    "    Args:\n",
    "        path: The path to the trained model\n",
    "        \n",
    "    Returns:\n",
    "        The pretrained model with architecture and weights\n",
    "    \"\"\"\n",
    "    return load_model(path)"
   ]
  }
 ],
 "metadata": {
  "kernelspec": {
   "display_name": "Python 3",
   "language": "python",
   "name": "python3"
  },
  "language_info": {
   "codemirror_mode": {
    "name": "ipython",
    "version": 3
   },
   "file_extension": ".py",
   "mimetype": "text/x-python",
   "name": "python",
   "nbconvert_exporter": "python",
   "pygments_lexer": "ipython3",
   "version": "3.7.3"
  }
 },
 "nbformat": 4,
 "nbformat_minor": 2
}
