{
 "cells": [
  {
   "cell_type": "markdown",
   "metadata": {
    "toc-hr-collapsed": false
   },
   "source": [
    "# Model training\n",
    "This notebook experiments with different training methods and model architectures."
   ]
  },
  {
   "cell_type": "code",
   "execution_count": 2,
   "metadata": {},
   "outputs": [
    {
     "name": "stderr",
     "output_type": "stream",
     "text": [
      "Using TensorFlow backend.\n"
     ]
    }
   ],
   "source": [
    "import tensorflow as tf\n",
    "from tensorflow import keras\n",
    "from keras.preprocessing import image\n",
    "from keras.layers import Conv2D, Dropout, MaxPooling2D, Dense\n",
    "from keras.applications.vgg19 import VGG19, decode_predictions"
   ]
  },
  {
   "cell_type": "code",
   "execution_count": 3,
   "metadata": {},
   "outputs": [],
   "source": [
    "SUB_TASK_B_PATH = \"../data/Task2_offlineRec/subTask_symbols/\"\n",
    "TRAIN_IMG_PATH = SUB_TASK_B_PATH + \"Train/\"\n",
    "\n",
    "# 2014 set of training data\n",
    "train_2014 = TRAIN_IMG_PATH + \"data_png_trainingSymbols/\"\n",
    "class_2014 = TRAIN_IMG_PATH + \"2014_symbols_GT.txt\""
   ]
  },
  {
   "cell_type": "code",
   "execution_count": 4,
   "metadata": {
    "jupyter": {
     "source_hidden": true
    }
   },
   "outputs": [],
   "source": [
    "IMG_WIDTH = IMG_HEIGHT = 224 # this is the default for vgg19\n",
    "IMG_CHANNELS = 3\n",
    "MODEL_DIR = \"\"\n",
    "TRAIN_DIR = \"\"\n",
    "VALID_DIR = \"\""
   ]
  },
  {
   "cell_type": "code",
   "execution_count": 5,
   "metadata": {},
   "outputs": [],
   "source": [
    "def init_model():\n",
    "    \"\"\"Loads vgg19 and adds layers ontop\n",
    "    \n",
    "    Returns:\n",
    "        The Keras model\n",
    "    \"\"\"\n",
    "    vgg19 = VGG19(include_top=False,\n",
    "                       weights='imagenet',\n",
    "                       input_shape=(IMG_X, IMG_Y, IMG_CHANNELS),\n",
    "                       pooling=None)\n",
    "    \n",
    "    # create a Sequential model from VGG19 layers & weights\n",
    "    base_model = Sequential()\n",
    "    for l in vgg19.layers:\n",
    "        base_model.add(l)\n",
    "    \n",
    "    top_model = keras.Sequential()\n",
    "    # convolution\n",
    "    top_model.add(Conv2D(32, kernel_size=3, input_shape=(100, 100, 3), activation='relu'))\n",
    "    top_model.add(MaxPooling2D(pool_size=2))\n",
    "    top_model.add(Dropout(0.1))\n",
    "    \n",
    "    top_model.add(Conv2D(32, kernel_size=3, activation='relu'))\n",
    "    top_model.add(MaxPooling2D(pool_size=2))\n",
    "    top_model.add(Dropout(0.1))\n",
    "    \n",
    "    # classification\n",
    "    top_model.add(Flatten())\n",
    "    top_model.add(Dense(32, activation='relu'))\n",
    "    top_model.add(Dense(100, activation='softmax'))\n",
    "    \n",
    "    base_model.add(vgg19)\n",
    "    \n",
    "    # lock top layers for model\n",
    "    for layer in base_model.layers:\n",
    "        layer.trainable = False\n",
    "    \n",
    "    return base_model"
   ]
  },
  {
   "cell_type": "code",
   "execution_count": 6,
   "metadata": {
    "jupyter": {
     "source_hidden": true
    }
   },
   "outputs": [],
   "source": [
    "def train_model(model, images, labels):\n",
    "    \"\"\"Compiles and trains the model given the dataset\n",
    "    \n",
    "    The model is also saved after it is trained\n",
    "    \n",
    "    Args:\n",
    "        images:\n",
    "        labels:\n",
    "        \n",
    "    Returns:\n",
    "        The trained model\n",
    "    \"\"\"\n",
    "    train_samples = 1000\n",
    "    validation_samples = 1000\n",
    "    epochs = 30\n",
    "    batch_size = 16\n",
    "    \n",
    "    # For a multi-class classification problem\n",
    "    model.compile(optimizer='Adam',\n",
    "              loss='categorical_crossentropy',\n",
    "              metrics=['accuracy'])\n",
    "    \n",
    "    one_hot_labels = keras.utils.to_categorical(labels, num_classes=NUM_CLASSES)\n",
    "\n",
    "    model.fit(images, labels, epochs=10, batch_size=32)"
   ]
  },
  {
   "cell_type": "code",
   "execution_count": 7,
   "metadata": {
    "jupyter": {
     "source_hidden": true
    }
   },
   "outputs": [],
   "source": [
    "def save_model(model, path):\n",
    "    \"\"\"Saves a model to location specified in path\n",
    "    \n",
    "    Args:\n",
    "        path: The path to save the trained model\n",
    "    \"\"\"\n",
    "    model.save(\"model.h5\")"
   ]
  },
  {
   "cell_type": "code",
   "execution_count": 8,
   "metadata": {
    "jupyter": {
     "source_hidden": true
    }
   },
   "outputs": [],
   "source": [
    "def load_model(path):\n",
    "    \"\"\"Returns a pretrained model\n",
    "    \n",
    "    Args:\n",
    "        path: The path to the trained model\n",
    "        \n",
    "    Returns:\n",
    "        The pretrained model with architecture and weights\n",
    "    \"\"\"\n",
    "    return load_model(path)"
   ]
  },
  {
   "cell_type": "code",
   "execution_count": 9,
   "metadata": {},
   "outputs": [
    {
     "name": "stdout",
     "output_type": "stream",
     "text": [
      "container_ship (15.95%)\n"
     ]
    }
   ],
   "source": [
    "# main\n",
    "model = VGG19()\n",
    "img = image.img_to_array(image.load_img(train_2014 + \"iso7177.png\", target_size=(224, 224)))\n",
    "# img = VGG19.preprocess_input(img)\n",
    "img = img.reshape((1, img.shape[0], img.shape[1], img.shape[2]))\n",
    "x = model.predict(img)\n",
    "label = decode_predictions(x)\n",
    "label = label[0][0]\n",
    "print('%s (%.2f%%)' % (label[1], label[2]*100))\n",
    "# train_model(model, images, labels)\n",
    "# save_model(model, MODEL_PATH)"
   ]
  },
  {
   "cell_type": "code",
   "execution_count": null,
   "metadata": {},
   "outputs": [],
   "source": []
  }
 ],
 "metadata": {
  "kernelspec": {
   "display_name": "Python 3",
   "language": "python",
   "name": "python3"
  },
  "language_info": {
   "codemirror_mode": {
    "name": "ipython",
    "version": 3
   },
   "file_extension": ".py",
   "mimetype": "text/x-python",
   "name": "python",
   "nbconvert_exporter": "python",
   "pygments_lexer": "ipython3",
   "version": "3.7.6"
  }
 },
 "nbformat": 4,
 "nbformat_minor": 4
}
